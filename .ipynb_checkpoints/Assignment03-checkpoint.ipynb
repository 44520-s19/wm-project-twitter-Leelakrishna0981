{
 "cells": [
  {
   "cell_type": "markdown",
   "metadata": {},
   "source": [
    "# Project: twitter\n",
    "\n",
    "## Twitter Accounts: \n",
    "    Narendra Modi(@narendramodi),\n",
    "    Randy Orton(@RandyOrton),\n",
    "    Rakul Preet singh(@Rakulpreet)"
   ]
  },
  {
   "cell_type": "markdown",
   "metadata": {},
   "source": [
    "# Retreiving twitter data"
   ]
  },
  {
   "cell_type": "code",
   "execution_count": 12,
   "metadata": {},
   "outputs": [],
   "source": [
    "import tweepy\n",
    "from twitter_keys import consumer_key, consumer_secret, access_token, access_secret\n",
    "import pickle\n",
    "auth = tweepy.OAuthHandler(consumer_key, consumer_secret)\n",
    "auth.set_access_token(access_token, access_secret)\n",
    "\n",
    "api = tweepy.API(auth)\n",
    "\n",
    "#First twitter account\n",
    "public_tweets1 = api.user_timeline('narendramodi')\n",
    "\n",
    "\n",
    "with open('modi.pkl','wb') as f:\n",
    "    pickle.dump(public_tweets1,f)\n",
    "\n",
    "#Second twitter acount\n",
    "public_tweets2 = api.user_timeline('RandyOrton')\n",
    "\n",
    "with open('randy.pkl','wb') as f:\n",
    "    pickle.dump(public_tweets2,f)\n",
    "\n",
    "#Third twitter account\n",
    "public_tweets3 = api.user_timeline('Rakulpreet')\n",
    "\n",
    "with open('rakul.pkl','wb') as f:\n",
    "    pickle.dump(public_tweets3,f)"
   ]
  },
  {
   "cell_type": "markdown",
   "metadata": {},
   "source": [
    "## Read from pickled files"
   ]
  },
  {
   "cell_type": "code",
   "execution_count": 14,
   "metadata": {},
   "outputs": [],
   "source": [
    "#Loading all three twitter accounts\n",
    "with open('modi.pkl','rb') as f:\n",
    "    public_tweets1 = pickle.load(f)\n",
    "\n",
    "with open('randy.pkl','rb') as f:\n",
    "    public_tweets2 = pickle.load(f)\n",
    "\n",
    "with open('rakul.pkl','rb') as f:\n",
    "    public_tweets3 = pickle.load(f)"
   ]
  },
  {
   "cell_type": "markdown",
   "metadata": {},
   "source": [
    "# Sentiment Analysis"
   ]
  },
  {
   "cell_type": "code",
   "execution_count": 15,
   "metadata": {},
   "outputs": [
    {
     "name": "stderr",
     "output_type": "stream",
     "text": [
      "[nltk_data] Downloading package vader_lexicon to\n",
      "[nltk_data]     C:\\Users\\S534629\\AppData\\Roaming\\nltk_data...\n",
      "[nltk_data]   Package vader_lexicon is already up-to-date!\n"
     ]
    }
   ],
   "source": [
    "import nltk\n",
    "from nltk.sentiment.vader import SentimentIntensityAnalyzer\n",
    "\n",
    "nltk.download('vader_lexicon')\n",
    "\n",
    "def get_sentiments(text):\n",
    "    analyzer = SentimentIntensityAnalyzer()\n",
    "    return analyzer.polarity_scores(text)"
   ]
  },
  {
   "cell_type": "code",
   "execution_count": 24,
   "metadata": {
    "scrolled": true
   },
   "outputs": [
    {
     "name": "stdout",
     "output_type": "stream",
     "text": [
      "Narendra Modi account sentiment analysis:\n",
      "[{'neg': 0.0, 'neu': 0.474, 'pos': 0.526, 'compound': 0.9042}, {'neg': 0.0, 'neu': 0.877, 'pos': 0.123, 'compound': 0.4215}, {'neg': 0.0, 'neu': 0.862, 'pos': 0.138, 'compound': 0.4939}, {'neg': 0.0, 'neu': 0.881, 'pos': 0.119, 'compound': 0.4019}, {'neg': 0.0, 'neu': 0.748, 'pos': 0.252, 'compound': 0.7506}, {'neg': 0.0, 'neu': 0.682, 'pos': 0.318, 'compound': 0.8126}, {'neg': 0.0, 'neu': 0.718, 'pos': 0.282, 'compound': 0.6705}, {'neg': 0.0, 'neu': 0.775, 'pos': 0.225, 'compound': 0.5411}, {'neg': 0.0, 'neu': 0.568, 'pos': 0.432, 'compound': 0.5859}, {'neg': 0.0, 'neu': 0.625, 'pos': 0.375, 'compound': 0.8012}, {'neg': 0.0, 'neu': 0.775, 'pos': 0.225, 'compound': 0.4404}, {'neg': 0.0, 'neu': 0.711, 'pos': 0.289, 'compound': 0.7263}, {'neg': 0.0, 'neu': 0.556, 'pos': 0.444, 'compound': 0.8625}, {'neg': 0.0, 'neu': 1.0, 'pos': 0.0, 'compound': 0.0}, {'neg': 0.0, 'neu': 0.852, 'pos': 0.148, 'compound': 0.3818}, {'neg': 0.0, 'neu': 0.891, 'pos': 0.109, 'compound': 0.296}, {'neg': 0.0, 'neu': 0.757, 'pos': 0.243, 'compound': 0.7269}, {'neg': 0.0, 'neu': 0.756, 'pos': 0.244, 'compound': 0.796}, {'neg': 0.0, 'neu': 0.572, 'pos': 0.428, 'compound': 0.7177}, {'neg': 0.0, 'neu': 0.688, 'pos': 0.312, 'compound': 0.7783}]\n",
      "\n",
      "Randy Orton account sentiment analysis:\n",
      "[{'neg': 0.0, 'neu': 0.68, 'pos': 0.32, 'compound': 0.5106}, {'neg': 0.0, 'neu': 0.711, 'pos': 0.289, 'compound': 0.6249}, {'neg': 0.0, 'neu': 1.0, 'pos': 0.0, 'compound': 0.0}, {'neg': 0.0, 'neu': 1.0, 'pos': 0.0, 'compound': 0.0}, {'neg': 0.0, 'neu': 0.84, 'pos': 0.16, 'compound': 0.3434}, {'neg': 0.0, 'neu': 0.782, 'pos': 0.218, 'compound': 0.5622}, {'neg': 0.0, 'neu': 0.864, 'pos': 0.136, 'compound': 0.5106}, {'neg': 0.0, 'neu': 1.0, 'pos': 0.0, 'compound': 0.0}, {'neg': 0.148, 'neu': 0.788, 'pos': 0.064, 'compound': -0.4019}, {'neg': 0.0, 'neu': 0.84, 'pos': 0.16, 'compound': 0.6369}, {'neg': 0.0, 'neu': 1.0, 'pos': 0.0, 'compound': 0.0}, {'neg': 0.0, 'neu': 1.0, 'pos': 0.0, 'compound': 0.0}, {'neg': 0.0, 'neu': 1.0, 'pos': 0.0, 'compound': 0.0}, {'neg': 0.0, 'neu': 0.772, 'pos': 0.228, 'compound': 0.6808}, {'neg': 0.0, 'neu': 1.0, 'pos': 0.0, 'compound': 0.0}, {'neg': 0.368, 'neu': 0.632, 'pos': 0.0, 'compound': -0.5423}, {'neg': 0.0, 'neu': 1.0, 'pos': 0.0, 'compound': 0.0}, {'neg': 0.0, 'neu': 1.0, 'pos': 0.0, 'compound': 0.0}, {'neg': 0.278, 'neu': 0.605, 'pos': 0.117, 'compound': -0.6124}, {'neg': 0.313, 'neu': 0.303, 'pos': 0.384, 'compound': 0.1779}]\n",
      "\n",
      "Rakul preet singh account sentiment analysis:\n",
      "[{'neg': 0.0, 'neu': 1.0, 'pos': 0.0, 'compound': 0.0}, {'neg': 0.0, 'neu': 0.653, 'pos': 0.347, 'compound': 0.6982}, {'neg': 0.0, 'neu': 1.0, 'pos': 0.0, 'compound': 0.0}, {'neg': 0.0, 'neu': 0.784, 'pos': 0.216, 'compound': 0.6892}, {'neg': 0.0, 'neu': 1.0, 'pos': 0.0, 'compound': 0.0}, {'neg': 0.0, 'neu': 1.0, 'pos': 0.0, 'compound': 0.0}, {'neg': 0.0, 'neu': 0.739, 'pos': 0.261, 'compound': 0.7717}, {'neg': 0.0, 'neu': 1.0, 'pos': 0.0, 'compound': 0.0}, {'neg': 0.0, 'neu': 1.0, 'pos': 0.0, 'compound': 0.0}, {'neg': 0.0, 'neu': 1.0, 'pos': 0.0, 'compound': 0.0}, {'neg': 0.0, 'neu': 0.786, 'pos': 0.214, 'compound': 0.4576}, {'neg': 0.0, 'neu': 0.757, 'pos': 0.243, 'compound': 0.7269}, {'neg': 0.0, 'neu': 1.0, 'pos': 0.0, 'compound': 0.0}, {'neg': 0.0, 'neu': 1.0, 'pos': 0.0, 'compound': 0.0}, {'neg': 0.0, 'neu': 1.0, 'pos': 0.0, 'compound': 0.0}, {'neg': 0.0, 'neu': 1.0, 'pos': 0.0, 'compound': 0.0}, {'neg': 0.0, 'neu': 1.0, 'pos': 0.0, 'compound': 0.0}, {'neg': 0.0, 'neu': 0.435, 'pos': 0.565, 'compound': 0.5994}, {'neg': 0.0, 'neu': 1.0, 'pos': 0.0, 'compound': 0.0}, {'neg': 0.0, 'neu': 0.81, 'pos': 0.19, 'compound': 0.6114}]\n"
     ]
    }
   ],
   "source": [
    "import pickle\n",
    "\n",
    "print('Narendra Modi account sentiment analysis:')\n",
    "print(list(get_sentiments(tweet.text) for tweet in public_tweets1))\n",
    "\n",
    "print('\\nRandy Orton account sentiment analysis:')\n",
    "print(list(get_sentiments(tweet.text) for tweet in public_tweets2))\n",
    "\n",
    "print('\\nRakul preet singh account sentiment analysis:')\n",
    "print(list(get_sentiments(tweet.text) for tweet in public_tweets3))"
   ]
  },
  {
   "cell_type": "code",
   "execution_count": 27,
   "metadata": {},
   "outputs": [],
   "source": [
    "def split_sentiments(sentiments):\n",
    "    xs= [sent['neg'] for sent in sentiments]\n",
    "    ys= [sent['neu'] for sent in sentiments]\n",
    "    zs= [sent['pos'] for sent in sentiments]\n",
    "    \n",
    "    return xs,ys,zs"
   ]
  },
  {
   "cell_type": "markdown",
   "metadata": {},
   "source": [
    "## Representation of above analysis in graph"
   ]
  },
  {
   "cell_type": "code",
   "execution_count": 31,
   "metadata": {},
   "outputs": [
    {
     "data": {
      "image/png": "[encoded data removed]",
      "text/plain": [
       "<Figure size 432x288 with 1 Axes>"
      ]
     },
     "metadata": {
      "needs_background": "light"
     },
     "output_type": "display_data"
    }
   ],
   "source": [
    "from mpl_toolkits.mplot3d import Axes3D\n",
    "import matplotlib.pyplot as plt\n",
    "\n",
    "modiX,modiY,modiZ=split_sentiments([get_sentiments(tweet.text) for tweet in public_tweets1])\n",
    "randyX,randyY,randyZ=split_sentiments([get_sentiments(tweet.text) for tweet in public_tweets2])\n",
    "rakulX,rakulY,rakulZ=split_sentiments([get_sentiments(tweet.text) for tweet in public_tweets3])\n",
    "\n",
    "plt.scatter(modiX,modiY, label='modi', color='g', marker='P')\n",
    "plt.scatter(randyX,randyY, label='randy', color='r', marker='D')\n",
    "plt.scatter(randyX,randyY, label='rakul', color='c', marker='X')\n",
    "\n",
    "plt.xlabel('Negative Sentiments')\n",
    "plt.ylabel('Positive Sentiments')\n",
    "plt.title('Positive Vs Negative Sentiments')\n",
    "plt.legend(loc='upper right', shadow=True)\n",
    "plt.show()"
   ]
  }
 ],
 "metadata": {
  "kernelspec": {
   "display_name": "Python 3",
   "language": "python",
   "name": "python3"
  },
  "language_info": {
   "codemirror_mode": {
    "name": "ipython",
    "version": 3
   },
   "file_extension": ".py",
   "mimetype": "text/x-python",
   "name": "python",
   "nbconvert_exporter": "python",
   "pygments_lexer": "ipython3",
   "version": "3.7.3"
  }
 },
 "nbformat": 4,
 "nbformat_minor": 2
}
